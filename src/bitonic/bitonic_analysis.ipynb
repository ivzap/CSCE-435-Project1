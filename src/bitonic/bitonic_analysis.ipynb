{
 "cells": [
  {
   "cell_type": "code",
   "execution_count": 1,
   "id": "2f19b2e2",
   "metadata": {},
   "outputs": [
    {
     "name": "stdout",
     "output_type": "stream",
     "text": [
      "Seaborn not found, so skipping imports of plotting in thicket.stats\n",
      "To enable this plotting, install seaborn or thicket[plotting]\n",
      "Warning: Roundtrip module could not be loaded. Requires jupyter notebook version <= 7.x.\n"
     ]
    }
   ],
   "source": [
    "import sys\n",
    "# sys.path.append(\"/scratch/group/csce435-f24/python-3.10.4/lib/python3.10/site-packages\")\n",
    "# sys.path.append(\"/scratch/group/csce435-f24/thicket\")\n",
    "from glob import glob\n",
    "import math\n",
    "\n",
    "import matplotlib.pyplot as plt\n",
    "import pandas as pd\n",
    "\n",
    "import thicket as th\n",
    "\n",
    "pd.set_option(\"display.max_rows\", None)\n",
    "pd.set_option(\"display.max_columns\", None)"
   ]
  },
  {
   "cell_type": "code",
   "execution_count": 2,
   "id": "fbb124cb-2722-4453-a636-25218bf77f02",
   "metadata": {},
   "outputs": [],
   "source": [
    "def exponential_representation(value):\n",
    "    # Find the exponent (b) for base 2\n",
    "    exponent = math.log2(value)  # Calculate the logarithm base 2\n",
    "    base = 2  # Base is 2\n",
    "\n",
    "    return f\"{base}^{int(exponent)}\"  # Return the formatted string"
   ]
  },
  {
   "cell_type": "code",
   "execution_count": 3,
   "id": "d70a9efd",
   "metadata": {},
   "outputs": [],
   "source": [
    "# For each of comp_large, comm, and main:\n",
    "# Strong scaling plots for each input_size with lines for input_type (7 plots - 4 lines each)\n",
    "# x axis = num_procs\n",
    "# y axis = total_time\n",
    "# 4 lines, one for each input type\n",
    "# Strong scaling speedup plot for each input_type (4 plots)\n",
    "# Weak scaling plots for each input_type (4 plots)\n",
    " \n",
    "def strong_plot_total_time(time_col, size, df):\n",
    "    plt.figure(figsize=(15, 8))\n",
    "    local_df = df[df[\"name\"].isin([\"comm\", \"comp\"])]\n",
    "    print(type(local_df))\n",
    "    df_sum = local_df.groupby(['num_procs', 'input_size', 'input_type'], as_index=False).agg({time_col: 'sum'})\n",
    "\n",
    "    # Filter by input size (assuming 'size' is defined globally or passed as an argument)\n",
    "    df_sum = df_sum[df_sum['input_size'] == size]\n",
    "\n",
    "    # Sort the values for better plotting\n",
    "    df_sum = df_sum.sort_values(by=['input_size', 'num_procs'])\n",
    "\n",
    "    for input_type, group in df_sum.groupby('input_type'):\n",
    "        plt.plot(group['num_procs'], group[time_col], marker='o', label=f'Input Type {input_type}')\n",
    "\n",
    "    # Add labels and title\n",
    "    plt.xlabel('Number of Processors (num_procs)')\n",
    "    plt.ylabel(time_col)\n",
    "    plt.title(f'{time_col} vs Number of Processors, Grouped by Input Type(size={size}, Total Time)')\n",
    "\n",
    "\n",
    "    # Add a legend\n",
    "    plt.legend(title='Input Size')\n",
    "\n",
    "    # Display the plot\n",
    "    plt.grid(True)\n",
    "    plt.show()   \n",
    "    "
   ]
  },
  {
   "cell_type": "code",
   "execution_count": 4,
   "id": "f46f6a47-9c59-43d1-975c-68706af91bac",
   "metadata": {},
   "outputs": [],
   "source": [
    "def strong_plot(time_col, size, cali_region, df):\n",
    "    plt.figure(figsize=(15, 8))\n",
    "    local_df = df[df[\"name\"] == cali_region]\n",
    "    local_df = local_df[local_df[\"input_size\"] == size]\n",
    "    local_df = local_df.drop_duplicates(subset=['num_procs', 'input_size', 'input_type'])\n",
    "    local_df = local_df.sort_values(by=['input_size', 'num_procs'])\n",
    "\n",
    "    for input_size, group in local_df.groupby('input_type'):\n",
    "        plt.plot(group['num_procs'], group[time_col], marker='o', label=f'{input_size}')\n",
    "\n",
    "    # Add labels and title\n",
    "    plt.xlabel('Number of Processors (num_procs)')\n",
    "    plt.ylabel(time_col)\n",
    "    plt.title(f'{time_col} vs Number of Processors, Grouped by Input Type(size={size}, {cali_region})')\n",
    "\n",
    "    # Add a legend\n",
    "    plt.legend(title='Input Types')\n",
    "\n",
    "    # Display the plot\n",
    "    plt.grid(True)\n",
    "    plt.show()"
   ]
  },
  {
   "cell_type": "code",
   "execution_count": 5,
   "id": "fd6e67aa-6dca-4837-bb4a-1c534db995d9",
   "metadata": {},
   "outputs": [],
   "source": [
    "def weak_plot(time_col, input_type, cali_region, df):\n",
    "    plt.figure(figsize=(15, 8))\n",
    "    local_df = df[df[\"name\"] == cali_region]\n",
    "    local_df = local_df[~local_df[\"input_size\"].isin([4,8, 256, 8192, 10000000])]\n",
    "    local_df = local_df[local_df[\"input_type\"] == input_type]\n",
    "    local_df = local_df.drop_duplicates(subset=['num_procs', 'input_size'])\n",
    "    local_df = local_df.sort_values(by=['input_size', 'num_procs'])\n",
    "\n",
    "    for input_size, group in local_df.groupby('input_size'):\n",
    "        plt.plot(group['num_procs'], group[time_col], marker='o', label=f'{exponential_representation(input_size)}')\n",
    "\n",
    "    # Add labels and title\n",
    "    plt.xlabel('Number of Processors (num_procs)')\n",
    "    plt.ylabel(time_col)\n",
    "    plt.title(f'{time_col} vs Number of Processors, Grouped by Input Size({input_type}, {cali_region})')\n",
    "\n",
    "    # Add a legend\n",
    "    plt.legend(title='Input Size')\n",
    "\n",
    "    # Display the plot\n",
    "    plt.grid(True)\n",
    "    plt.show()"
   ]
  },
  {
   "cell_type": "code",
   "execution_count": null,
   "id": "4bb55a0a",
   "metadata": {
    "scrolled": true
   },
   "outputs": [
    {
     "name": "stderr",
     "output_type": "stream",
     "text": [
      "(1/2) Reading Files:  66%|██████████████████████████████████████████████████████████████████████████████▉                                        | 175/264 [00:12<00:06, 13.50it/s]"
     ]
    }
   ],
   "source": [
    "all_tk = th.Thicket.from_caliperreader(glob(\"cali/**/*.cali\", recursive=True))"
   ]
  },
  {
   "cell_type": "code",
   "execution_count": null,
   "id": "b2e81eb0",
   "metadata": {
    "scrolled": true
   },
   "outputs": [],
   "source": [
    "df = pd.merge(all_tk.dataframe, all_tk.metadata, on=\"profile\")\n",
    "\n",
    "input_sizes = [2**16, 2**18, 2**20, 2**22, 2**24, 2**26, 2**28]\n",
    "for input_size in input_sizes:\n",
    "    strong_plot_total_time(\"Total time\", input_size, df)"
   ]
  },
  {
   "cell_type": "code",
   "execution_count": null,
   "id": "50e94477",
   "metadata": {},
   "outputs": [],
   "source": [
    "df = pd.merge(all_tk.dataframe, all_tk.metadata, on=\"profile\")\n",
    "\n",
    "input_sizes = [2**16, 2**18, 2**20, 2**22, 2**24, 2**26, 2**28]\n",
    "caliper_regions = [\"comm\", \"comp\", \"main\"]\n",
    "for input_size in input_sizes:\n",
    "    for region in caliper_regions:\n",
    "        strong_plot(\"Avg time/rank\", input_size, region, df)"
   ]
  },
  {
   "cell_type": "code",
   "execution_count": null,
   "id": "73f888bc-68e7-4328-b89d-e25e017f0dca",
   "metadata": {},
   "outputs": [],
   "source": [
    "df = pd.merge(all_tk.dataframe, all_tk.metadata, on=\"profile\")\n",
    "input_types = [\"sorted\", \"reversed\", \"random\", \"perturbed\"]\n",
    "caliper_regions = [\"comm\", \"comp\", \"main\"]\n",
    "for region in caliper_regions:\n",
    "    for input_type in input_types:\n",
    "        weak_plot(\"Avg time/rank\", input_type, region, df)"
   ]
  },
  {
   "cell_type": "code",
   "execution_count": null,
   "id": "4517cc2b-bd76-4b2c-9638-23c7a471f2ec",
   "metadata": {},
   "outputs": [],
   "source": []
  }
 ],
 "metadata": {
  "kernelspec": {
   "display_name": "Python 3 (ipykernel)",
   "language": "python",
   "name": "python3"
  },
  "language_info": {
   "codemirror_mode": {
    "name": "ipython",
    "version": 3
   },
   "file_extension": ".py",
   "mimetype": "text/x-python",
   "name": "python",
   "nbconvert_exporter": "python",
   "pygments_lexer": "ipython3",
   "version": "3.9.13"
  }
 },
 "nbformat": 4,
 "nbformat_minor": 5
}
